{
 "cells": [
  {
   "cell_type": "markdown",
   "id": "3369736a-3078-44af-885b-2e8b8c6a8a9c",
   "metadata": {},
   "source": [
    "# Data Science and Ecosystem"
   ]
  },
  {
   "cell_type": "markdown",
   "id": "64fec1e1-84eb-430b-bcac-72b264e7947b",
   "metadata": {},
   "source": [
    "In this notebook, Data Science Tools and Ecosystems are summarized"
   ]
  },
  {
   "cell_type": "markdown",
   "id": "3e9760c6-df09-48cb-b35f-0d62dc745773",
   "metadata": {},
   "source": [
    "__Objectives__\n",
    "- List popular libraries for Data Scientist\n",
    "- Use markdown in Jupyter Notebooks\n",
    "- Share Jupyter Notebooks on GitHub"
   ]
  },
  {
   "cell_type": "markdown",
   "id": "6f876a53-1611-47a7-99e0-26a63a92ef00",
   "metadata": {},
   "source": [
    "Some of the popular languages used by Data Scientists include:\n",
    "1. Python\n",
    "2. R\n",
    "3. SQL\n",
    "4. Java"
   ]
  },
  {
   "cell_type": "markdown",
   "id": "9b65c2a7-8200-46c3-b145-0847327b4f5e",
   "metadata": {},
   "source": [
    "Some of the commonly used libraries used by Data Scientists include:\n",
    "1. pandas\n",
    "2. numpy\n",
    "3. scikit-learn\n",
    "4. seaborn\n",
    "5. matplotlib"
   ]
  },
  {
   "cell_type": "markdown",
   "id": "1acc73a2-2b68-4f81-80ef-492c37225766",
   "metadata": {},
   "source": [
    "| Data Science Tools |\n",
    "| ------------------ |\n",
    "| Jupyter Notebooks |\n",
    "| RStudio |\n",
    "| Spyder |"
   ]
  },
  {
   "cell_type": "markdown",
   "id": "29773993-c750-4b00-8599-ee8dfc0a7685",
   "metadata": {},
   "source": [
    "### Below are a few examples of evaluating arithmetic expresssions in Python:"
   ]
  },
  {
   "cell_type": "code",
   "execution_count": 4,
   "id": "b75d734a-811f-46f8-8bad-32b8524bbae8",
   "metadata": {},
   "outputs": [
    {
     "data": {
      "text/plain": [
       "17"
      ]
     },
     "execution_count": 4,
     "metadata": {},
     "output_type": "execute_result"
    }
   ],
   "source": [
    "#This is a simple arithmetic expression to multiply then add integers\n",
    "(3 * 4) + 5"
   ]
  },
  {
   "cell_type": "code",
   "execution_count": 5,
   "id": "a0451539-e595-402b-86e3-6a16600d5ebb",
   "metadata": {},
   "outputs": [
    {
     "data": {
      "text/plain": [
       "3.3333333333333335"
      ]
     },
     "execution_count": 5,
     "metadata": {},
     "output_type": "execute_result"
    }
   ],
   "source": [
    "#This will convert 200 minutes to hours\n",
    "200/60"
   ]
  },
  {
   "cell_type": "code",
   "execution_count": null,
   "id": "f3bdba10-2e8f-40df-922a-db7ab5622767",
   "metadata": {},
   "outputs": [],
   "source": []
  },
  {
   "cell_type": "markdown",
   "id": "d6d09b60-fce8-420b-8a7c-b8eb5467a3a0",
   "metadata": {},
   "source": [
    "## Author\n",
    "Robert Littrell\n"
   ]
  }
 ],
 "metadata": {
  "kernelspec": {
   "display_name": "Python 3 (ipykernel)",
   "language": "python",
   "name": "python3"
  },
  "language_info": {
   "codemirror_mode": {
    "name": "ipython",
    "version": 3
   },
   "file_extension": ".py",
   "mimetype": "text/x-python",
   "name": "python",
   "nbconvert_exporter": "python",
   "pygments_lexer": "ipython3",
   "version": "3.12.3"
  }
 },
 "nbformat": 4,
 "nbformat_minor": 5
}
